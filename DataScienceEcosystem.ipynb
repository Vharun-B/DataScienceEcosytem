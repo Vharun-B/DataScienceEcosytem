{
 "cells": [
  {
   "cell_type": "markdown",
   "id": "54ee170d-ba51-4477-9c89-e559a07dd72d",
   "metadata": {},
   "source": [
    "# Data Science Tools and Ecosystem"
   ]
  },
  {
   "cell_type": "markdown",
   "id": "fd124443-7c9a-4951-b2a5-7f9553f279fd",
   "metadata": {},
   "source": [
    "In this notebook, Data Science Tools and Ecosystem are summarized."
   ]
  },
  {
   "cell_type": "markdown",
   "id": "d71efee1-119c-452c-b0f1-dcb19dc1d30c",
   "metadata": {},
   "source": [
    "**Objectives:**\n",
    "\n",
    "- List popular languages for Data Science\n",
    "- List commonly used libraries by Data Scientists\n",
    "- List commonly used Data Science tools"
   ]
  },
  {
   "cell_type": "markdown",
   "id": "fb940d86-d624-4261-92f6-7eeaa161f937",
   "metadata": {},
   "source": [
    "Some of the popular languages that Data Scientists use are:\n",
    "\n",
    "1. R\n",
    "2. Python\n",
    "3. SQL"
   ]
  },
  {
   "cell_type": "markdown",
   "id": "fe90a11e-17f3-4873-8120-89ad43bc34ff",
   "metadata": {},
   "source": [
    "Some of the commonly used libraries used by Data Scientists include:\n",
    "\n",
    "1. pandas\n",
    "2. matplotlib\n",
    "3. tenserflow"
   ]
  },
  {
   "cell_type": "markdown",
   "id": "a7136dc4-8b90-4315-a374-d196b3441977",
   "metadata": {},
   "source": [
    "| Data Science Tools |\n",
    "| ------ |\n",
    "| JupyterNotebook |\n",
    "| RStudio |\n",
    "| GitHub |"
   ]
  },
  {
   "cell_type": "markdown",
   "id": "b46e745c-c6e4-423f-b334-8211855164db",
   "metadata": {},
   "source": [
    "### Below are a few examples of evaluating arithmetic expressions in Python"
   ]
  },
  {
   "cell_type": "code",
   "execution_count": null,
   "id": "d88ef637-4ce6-4876-a6ec-4f22a0a21a97",
   "metadata": {},
   "outputs": [],
   "source": [
    "# This is a simple arithmetic expression to multiply then add integers.\n",
    "(3*4)+5"
   ]
  },
  {
   "cell_type": "code",
   "execution_count": null,
   "id": "97af68e4-de22-4095-aae1-0ba6ceb87553",
   "metadata": {},
   "outputs": [],
   "source": [
    "# This will convert 200 minutes to hours by dividing by 60\n",
    "200/60"
   ]
  },
  {
   "cell_type": "markdown",
   "id": "ae00db76-0a19-4e05-a5d6-5ff0b25dd225",
   "metadata": {},
   "source": [
    "## Author\n",
    "Vharun Boopathy"
   ]
  },
  {
   "cell_type": "code",
   "execution_count": null,
   "id": "340b273f-32b1-4909-a0bc-bbafbcae9d7f",
   "metadata": {},
   "outputs": [],
   "source": []
  }
 ],
 "metadata": {
  "kernelspec": {
   "display_name": "Python 3 (ipykernel)",
   "language": "python",
   "name": "python3"
  },
  "language_info": {
   "codemirror_mode": {
    "name": "ipython",
    "version": 3
   },
   "file_extension": ".py",
   "mimetype": "text/x-python",
   "name": "python",
   "nbconvert_exporter": "python",
   "pygments_lexer": "ipython3",
   "version": "3.12.4"
  }
 },
 "nbformat": 4,
 "nbformat_minor": 5
}
